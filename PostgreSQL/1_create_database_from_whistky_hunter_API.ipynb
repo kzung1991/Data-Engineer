{
 "cells": [
  {
   "cell_type": "code",
   "execution_count": 1,
   "metadata": {},
   "outputs": [],
   "source": [
    "import requests\n",
    "import psycopg2\n",
    "import pandas as pd"
   ]
  },
  {
   "cell_type": "code",
   "execution_count": 2,
   "metadata": {},
   "outputs": [],
   "source": [
    "# Bước 1: Gọi API và lấy dữ liệu\n",
    "api_url = \"https://whiskyhunter.net/api/auctions_data/\"\n",
    "response = requests.get(api_url)\n",
    "\n",
    "if response.status_code == 200:\n",
    "    data = response.json()\n",
    "else:\n",
    "    print(f\"Failed to retrieve data: {response.status_code}\")\n",
    "    data = []\n"
   ]
  },
  {
   "cell_type": "code",
   "execution_count": 5,
   "metadata": {},
   "outputs": [],
   "source": [
    "# Bước 2: Chuyển dữ liệu sang DataFrame\n",
    "df = pd.DataFrame(data)"
   ]
  },
  {
   "cell_type": "code",
   "execution_count": 8,
   "metadata": {},
   "outputs": [
    {
     "data": {
      "text/html": [
       "<div>\n",
       "<style scoped>\n",
       "    .dataframe tbody tr th:only-of-type {\n",
       "        vertical-align: middle;\n",
       "    }\n",
       "\n",
       "    .dataframe tbody tr th {\n",
       "        vertical-align: top;\n",
       "    }\n",
       "\n",
       "    .dataframe thead th {\n",
       "        text-align: right;\n",
       "    }\n",
       "</style>\n",
       "<table border=\"1\" class=\"dataframe\">\n",
       "  <thead>\n",
       "    <tr style=\"text-align: right;\">\n",
       "      <th></th>\n",
       "      <th>dt</th>\n",
       "      <th>winning_bid_max</th>\n",
       "      <th>winning_bid_min</th>\n",
       "      <th>winning_bid_mean</th>\n",
       "      <th>auction_trading_volume</th>\n",
       "      <th>auction_lots_count</th>\n",
       "      <th>all_auctions_lots_count</th>\n",
       "      <th>auction_name</th>\n",
       "      <th>auction_slug</th>\n",
       "    </tr>\n",
       "  </thead>\n",
       "  <tbody>\n",
       "    <tr>\n",
       "      <th>0</th>\n",
       "      <td>2024-06-01</td>\n",
       "      <td>6309.7</td>\n",
       "      <td>11.5</td>\n",
       "      <td>142.13</td>\n",
       "      <td>325198.2</td>\n",
       "      <td>2288</td>\n",
       "      <td>41886</td>\n",
       "      <td>Australian Whisky Auctions</td>\n",
       "      <td>australian-whisky-auctions</td>\n",
       "    </tr>\n",
       "    <tr>\n",
       "      <th>1</th>\n",
       "      <td>2024-06-01</td>\n",
       "      <td>11843.2</td>\n",
       "      <td>50.8</td>\n",
       "      <td>1117.48</td>\n",
       "      <td>91633.2</td>\n",
       "      <td>82</td>\n",
       "      <td>41886</td>\n",
       "      <td>Bonhams Whisky Auction</td>\n",
       "      <td>bonhams</td>\n",
       "    </tr>\n",
       "    <tr>\n",
       "      <th>2</th>\n",
       "      <td>2024-06-01</td>\n",
       "      <td>10574.3</td>\n",
       "      <td>1.7</td>\n",
       "      <td>166.62</td>\n",
       "      <td>830912.6</td>\n",
       "      <td>4987</td>\n",
       "      <td>41886</td>\n",
       "      <td>Catawiki Whisky Auction</td>\n",
       "      <td>catawiki</td>\n",
       "    </tr>\n",
       "    <tr>\n",
       "      <th>3</th>\n",
       "      <td>2024-06-01</td>\n",
       "      <td>3045.4</td>\n",
       "      <td>4.2</td>\n",
       "      <td>269.09</td>\n",
       "      <td>27716.4</td>\n",
       "      <td>103</td>\n",
       "      <td>41886</td>\n",
       "      <td>Celtic Whiskey Auction</td>\n",
       "      <td>celtic-whiskey-auction</td>\n",
       "    </tr>\n",
       "    <tr>\n",
       "      <th>4</th>\n",
       "      <td>2024-06-01</td>\n",
       "      <td>2377.1</td>\n",
       "      <td>0.8</td>\n",
       "      <td>123.98</td>\n",
       "      <td>235677.9</td>\n",
       "      <td>1901</td>\n",
       "      <td>41886</td>\n",
       "      <td>Ebay Whisky Auctions</td>\n",
       "      <td>ebay-whisky-auctions</td>\n",
       "    </tr>\n",
       "  </tbody>\n",
       "</table>\n",
       "</div>"
      ],
      "text/plain": [
       "           dt  winning_bid_max  winning_bid_min  winning_bid_mean  \\\n",
       "0  2024-06-01           6309.7             11.5            142.13   \n",
       "1  2024-06-01          11843.2             50.8           1117.48   \n",
       "2  2024-06-01          10574.3              1.7            166.62   \n",
       "3  2024-06-01           3045.4              4.2            269.09   \n",
       "4  2024-06-01           2377.1              0.8            123.98   \n",
       "\n",
       "   auction_trading_volume  auction_lots_count  all_auctions_lots_count  \\\n",
       "0                325198.2                2288                    41886   \n",
       "1                 91633.2                  82                    41886   \n",
       "2                830912.6                4987                    41886   \n",
       "3                 27716.4                 103                    41886   \n",
       "4                235677.9                1901                    41886   \n",
       "\n",
       "                 auction_name                auction_slug  \n",
       "0  Australian Whisky Auctions  australian-whisky-auctions  \n",
       "1      Bonhams Whisky Auction                     bonhams  \n",
       "2     Catawiki Whisky Auction                    catawiki  \n",
       "3      Celtic Whiskey Auction      celtic-whiskey-auction  \n",
       "4        Ebay Whisky Auctions        ebay-whisky-auctions  "
      ]
     },
     "execution_count": 8,
     "metadata": {},
     "output_type": "execute_result"
    }
   ],
   "source": [
    "df.head()"
   ]
  },
  {
   "cell_type": "code",
   "execution_count": 9,
   "metadata": {},
   "outputs": [
    {
     "name": "stdout",
     "output_type": "stream",
     "text": [
      "<class 'pandas.core.frame.DataFrame'>\n",
      "RangeIndex: 2008 entries, 0 to 2007\n",
      "Data columns (total 9 columns):\n",
      " #   Column                   Non-Null Count  Dtype  \n",
      "---  ------                   --------------  -----  \n",
      " 0   dt                       2008 non-null   object \n",
      " 1   winning_bid_max          2008 non-null   float64\n",
      " 2   winning_bid_min          2008 non-null   float64\n",
      " 3   winning_bid_mean         2008 non-null   float64\n",
      " 4   auction_trading_volume   2008 non-null   float64\n",
      " 5   auction_lots_count       2008 non-null   int64  \n",
      " 6   all_auctions_lots_count  2008 non-null   int64  \n",
      " 7   auction_name             2008 non-null   object \n",
      " 8   auction_slug             2008 non-null   object \n",
      "dtypes: float64(4), int64(2), object(3)\n",
      "memory usage: 141.3+ KB\n"
     ]
    }
   ],
   "source": [
    "df.info()"
   ]
  },
  {
   "cell_type": "code",
   "execution_count": 11,
   "metadata": {},
   "outputs": [
    {
     "name": "stdout",
     "output_type": "stream",
     "text": [
      "Cơ sở dữ liệu 'whistky_hunter_db' đã được tạo thành công.\n"
     ]
    }
   ],
   "source": [
    "# Bước 3: Tạo cơ sở dữ liệu và kết nối với PostgreSQL\n",
    "from psycopg2 import sql\n",
    "# Thông tin kết nối đến PostgreSQL server\n",
    "host = \"localhost\"\n",
    "user = \"postgres\"\n",
    "password = \"1231991\"\n",
    "port = 5432  # Thông thường là 5432\n",
    "\n",
    "# Kết nối đến PostgreSQL server (cơ sở dữ liệu mặc định 'postgres')\n",
    "conn = psycopg2.connect(\n",
    "    dbname=\"postgres\",\n",
    "    user=user,\n",
    "    password=password,\n",
    "    host=host,\n",
    "    port=port\n",
    ")\n",
    "conn.autocommit = True\n",
    "cur = conn.cursor()\n",
    "\n",
    "# Tạo cơ sở dữ liệu mới\n",
    "database_name = \"whistky_hunter_db\"\n",
    "create_db_query = sql.SQL(\"CREATE DATABASE {}\").format(\n",
    "    sql.Identifier(database_name)\n",
    ")\n",
    "\n",
    "try:\n",
    "    cur.execute(create_db_query)\n",
    "    print(f\"Cơ sở dữ liệu '{database_name}' đã được tạo thành công.\")\n",
    "except Exception as e:\n",
    "    print(f\"Lỗi khi tạo cơ sở dữ liệu: {e}\")"
   ]
  },
  {
   "cell_type": "code",
   "execution_count": 13,
   "metadata": {},
   "outputs": [],
   "source": [
    "# Bước 4: Tạo bảng trong PostgreSQL (nếu chưa có)\n",
    "create_table_query = \"\"\"\n",
    "CREATE TABLE IF NOT EXISTS auctions_data (\n",
    "    id SERIAL PRIMARY KEY,\n",
    "    dt DATE,\n",
    "    winning_bid_max FLOAT,\n",
    "    winning_bid_min FLOAT,\n",
    "    winning_bid_mean FLOAT,\n",
    "    auction_trading_volume FLOAT,\n",
    "    auction_lots_count INT,\n",
    "    all_auctions_lots_count INT,\n",
    "    auction_name TEXT,\n",
    "    auction_slug TEXT\n",
    ")\n",
    "\"\"\"\n",
    "cur.execute(create_table_query)\n",
    "conn.commit()\n"
   ]
  },
  {
   "cell_type": "code",
   "execution_count": 19,
   "metadata": {},
   "outputs": [
    {
     "name": "stdout",
     "output_type": "stream",
     "text": [
      "Index(['dt', 'winning_bid_max', 'winning_bid_min', 'winning_bid_mean',\n",
      "       'auction_trading_volume', 'auction_lots_count',\n",
      "       'all_auctions_lots_count', 'auction_name', 'auction_slug'],\n",
      "      dtype='object')\n"
     ]
    }
   ],
   "source": [
    "print(df.columns)"
   ]
  },
  {
   "cell_type": "code",
   "execution_count": 21,
   "metadata": {},
   "outputs": [],
   "source": [
    "# Bước 5: Ghi dữ liệu vào PostgreSQL\n",
    "for _, row in df.iterrows():\n",
    "    insert_query = \"\"\"\n",
    "    INSERT INTO auctions_data (dt, winning_bid_max, winning_bid_min, winning_bid_mean, auction_trading_volume, auction_lots_count, all_auctions_lots_count, auction_name, auction_slug)\n",
    "    VALUES (%s, %s, %s, %s, %s, %s, %s, %s, %s)\n",
    "    \"\"\"\n",
    "    cur.execute(insert_query, (\n",
    "        row['dt'],\n",
    "        row['winning_bid_max'],\n",
    "        row['winning_bid_min'],\n",
    "        row['winning_bid_mean'],\n",
    "        row['auction_trading_volume'],\n",
    "        row['auction_lots_count'],\n",
    "        row['all_auctions_lots_count'],\n",
    "        row['auction_name'],\n",
    "        row['auction_slug']\n",
    "    ))\n",
    "    conn.commit()\n"
   ]
  },
  {
   "cell_type": "code",
   "execution_count": 22,
   "metadata": {},
   "outputs": [
    {
     "name": "stdout",
     "output_type": "stream",
     "text": [
      "Dữ liệu đã được ghi vào PostgreSQL thành công.\n"
     ]
    }
   ],
   "source": [
    "# Đóng kết nối\n",
    "cur.close()\n",
    "conn.close()\n",
    "\n",
    "print(\"Dữ liệu đã được ghi vào PostgreSQL thành công.\")"
   ]
  }
 ],
 "metadata": {
  "kernelspec": {
   "display_name": "base",
   "language": "python",
   "name": "python3"
  },
  "language_info": {
   "codemirror_mode": {
    "name": "ipython",
    "version": 3
   },
   "file_extension": ".py",
   "mimetype": "text/x-python",
   "name": "python",
   "nbconvert_exporter": "python",
   "pygments_lexer": "ipython3",
   "version": "3.11.7"
  }
 },
 "nbformat": 4,
 "nbformat_minor": 2
}
